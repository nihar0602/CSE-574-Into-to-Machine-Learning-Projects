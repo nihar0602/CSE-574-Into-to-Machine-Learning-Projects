{
  "nbformat": 4,
  "nbformat_minor": 0,
  "metadata": {
    "kernelspec": {
      "name": "python3",
      "display_name": "Python 3"
    },
    "language_info": {
      "codemirror_mode": {
        "name": "ipython",
        "version": 3
      },
      "file_extension": ".py",
      "mimetype": "text/x-python",
      "name": "python",
      "nbconvert_exporter": "python",
      "pygments_lexer": "ipython3",
      "version": "3.7.4"
    },
    "colab": {
      "name": "PA2_Part1.ipynb",
      "provenance": [],
      "collapsed_sections": [],
      "toc_visible": true
    },
    "accelerator": "GPU"
  },
  "cells": [
    {
      "cell_type": "markdown",
      "metadata": {
        "id": "sVmNAYcBpgtH",
        "colab_type": "text"
      },
      "source": [
        "# CSE474/574 - Programming Assignment 2"
      ]
    },
    {
      "cell_type": "markdown",
      "metadata": {
        "id": "63BLNK8JpgtI",
        "colab_type": "text"
      },
      "source": [
        "## Part 1 - Sentiment Analysis\n",
        "\n",
        "In the code provided below, you need to add code wherever specified by `TODO:`. \n",
        "\n",
        "> You will be using a Python collection class - `Counter` to maintain the word counts. \n",
        "\n",
        "> See https://docs.python.org/2/library/collections.html for more details."
      ]
    },
    {
      "cell_type": "code",
      "metadata": {
        "id": "qdn2eG4xpgtJ",
        "colab_type": "code",
        "outputId": "7b800c99-c4c4-48d3-8659-50d1631eb638",
        "colab": {
          "base_uri": "https://localhost:8080/",
          "height": 120
        }
      },
      "source": [
        "from collections import Counter\n",
        "import numpy as np\n",
        "import matplotlib.pyplot as plt\n",
        "import time\n",
        "%matplotlib inline\n",
        "from google.colab import drive\n",
        "drive.mount('/content/gdrive')"
      ],
      "execution_count": 0,
      "outputs": [
        {
          "output_type": "stream",
          "text": [
            "Go to this URL in a browser: https://accounts.google.com/o/oauth2/auth?client_id=947318989803-6bn6qk8qdgf4n4g3pfee6491hc0brc4i.apps.googleusercontent.com&redirect_uri=urn%3aietf%3awg%3aoauth%3a2.0%3aoob&response_type=code&scope=email%20https%3a%2f%2fwww.googleapis.com%2fauth%2fdocs.test%20https%3a%2f%2fwww.googleapis.com%2fauth%2fdrive%20https%3a%2f%2fwww.googleapis.com%2fauth%2fdrive.photos.readonly%20https%3a%2f%2fwww.googleapis.com%2fauth%2fpeopleapi.readonly\n",
            "\n",
            "Enter your authorization code:\n",
            "··········\n",
            "Mounted at /content/gdrive\n"
          ],
          "name": "stdout"
        }
      ]
    },
    {
      "cell_type": "code",
      "metadata": {
        "id": "8wGCiNUTpgtM",
        "colab_type": "code",
        "colab": {}
      },
      "source": [
        "# read data files \n",
        "g = open('gdrive/My Drive/MLAssign2/reviews.txt','r') # What we know!\n",
        "reviews_all = list(map(lambda x:x[:-1],g.readlines()))\n",
        "g.close()\n",
        "g = open('gdrive/My Drive/MLAssign2/labels.txt','r') # What we WANT to know!\n",
        "sentiments_all = list(map(lambda x:x[:-1].upper(),g.readlines()))\n",
        "g.close()\n",
        "\n",
        "# load vocabulary\n",
        "g = open('gdrive/My Drive/MLAssign2/vocab.txt','r')\n",
        "vocab = [s.strip() for s in g.readlines()]"
      ],
      "execution_count": 0,
      "outputs": []
    },
    {
      "cell_type": "markdown",
      "metadata": {
        "id": "YnMrE_UBpgtO",
        "colab_type": "text"
      },
      "source": [
        "The data is a set of 25000 movie reviews, along with a `POSITIVE` or `NEGATIVE` sentiment label assigned to the review."
      ]
    },
    {
      "cell_type": "code",
      "metadata": {
        "id": "S7X7I438pgtP",
        "colab_type": "code",
        "outputId": "eb5e3057-ed92-4ac6-d5b7-dc4d71ceb1ac",
        "colab": {
          "base_uri": "https://localhost:8080/",
          "height": 120
        }
      },
      "source": [
        "# Check out sample reviews\n",
        "print('A {} review:'.format(sentiments_all[0]))\n",
        "print(reviews_all[0])\n",
        "print('\\nA {} review:'.format(sentiments_all[1]))\n",
        "print(reviews_all[1])"
      ],
      "execution_count": 0,
      "outputs": [
        {
          "output_type": "stream",
          "text": [
            "A POSITIVE review:\n",
            "bromwell high is a cartoon comedy . it ran at the same time as some other programs about school life  such as  teachers  . my   years in the teaching profession lead me to believe that bromwell high  s satire is much closer to reality than is  teachers  . the scramble to survive financially  the insightful students who can see right through their pathetic teachers  pomp  the pettiness of the whole situation  all remind me of the schools i knew and their students . when i saw the episode in which a student repeatedly tried to burn down the school  i immediately recalled . . . . . . . . . at . . . . . . . . . . high . a classic line inspector i  m here to sack one of your teachers . student welcome to bromwell high . i expect that many adults of my age think that bromwell high is far fetched . what a pity that it isn  t   \n",
            "\n",
            "A NEGATIVE review:\n",
            "story of a man who has unnatural feelings for a pig . starts out with a opening scene that is a terrific example of absurd comedy . a formal orchestra audience is turned into an insane  violent mob by the crazy chantings of it  s singers . unfortunately it stays absurd the whole time with no general narrative eventually making it just too off putting . even those from the era should be turned off . the cryptic dialogue would make shakespeare seem easy to a third grader . on a technical level it  s better than you might think with some good cinematography by future great vilmos zsigmond . future stars sally kirkland and frederic forrest can be seen briefly .  \n"
          ],
          "name": "stdout"
        }
      ]
    },
    {
      "cell_type": "code",
      "metadata": {
        "id": "cflbOZvkpgtS",
        "colab_type": "code",
        "colab": {}
      },
      "source": [
        "# split into training and test data\n",
        "reviews_train,reviews_test = reviews_all[0:24000],reviews_all[24000:]\n",
        "sentiments_train,sentiments_test = sentiments_all[0:24000],sentiments_all[24000:]"
      ],
      "execution_count": 0,
      "outputs": []
    },
    {
      "cell_type": "code",
      "metadata": {
        "id": "qfrn1nxcpgtV",
        "colab_type": "code",
        "colab": {}
      },
      "source": [
        "# maintain Counter objects to store positive, negative and total counts for\n",
        "# all the words present in the positive, negative and total reviews.\n",
        "positive_word_count = Counter()\n",
        "negative_word_count = Counter()\n",
        "total_counts = Counter()\n",
        "# TODO: Loop over all the words in the vocabulary\n",
        "# and increment the counts in the appropriate counter objects\n",
        "# based on the training data\n",
        "\n",
        "for i, review in enumerate(reviews_train):\n",
        "    for word in review.split(' '):\n",
        "        total_counts[word] += 1\n",
        "        if sentiments_train[i] == \"POSITIVE\":\n",
        "            positive_word_count[word] += 1\n",
        "        else:\n",
        "            negative_word_count[word] += 1"
      ],
      "execution_count": 0,
      "outputs": []
    },
    {
      "cell_type": "code",
      "metadata": {
        "id": "wuxTMyzUpgtX",
        "colab_type": "code",
        "colab": {}
      },
      "source": [
        "# maintain a Counter object to store positive to negative ratios \n",
        "pos_neg_ratios = Counter()\n",
        "\n",
        "# Calculate the ratios of positive and negative uses of the most common words\n",
        "# Consider words to be \"common\" if they've been used at least 100 times\n",
        "for term,cnt in list(total_counts.most_common()):\n",
        "    if(cnt > 100):\n",
        "        # TODO: Code for calculating the ratios (remove the next line)\n",
        "        neg = negative_word_count[term]\n",
        "        neg = 1 if neg == 0 else neg\n",
        "\n",
        "        pos_neg_ratios[term] = positive_word_count[term] / neg"
      ],
      "execution_count": 0,
      "outputs": []
    },
    {
      "cell_type": "code",
      "metadata": {
        "id": "xX-2yuoIpgtZ",
        "colab_type": "code",
        "outputId": "5003b7f1-cb70-4029-e952-a7765bda498d",
        "colab": {
          "base_uri": "https://localhost:8080/",
          "height": 67
        }
      },
      "source": [
        "print(\"Pos-to-neg ratio for 'the' = {}\".format(pos_neg_ratios[\"the\"]))\n",
        "print(\"Pos-to-neg ratio for 'amazing' = {}\".format(pos_neg_ratios[\"amazing\"]))\n",
        "print(\"Pos-to-neg ratio for 'terrible' = {}\".format(pos_neg_ratios[\"terrible\"]))"
      ],
      "execution_count": 0,
      "outputs": [
        {
          "output_type": "stream",
          "text": [
            "Pos-to-neg ratio for 'the' = 1.0618582280413789\n",
            "Pos-to-neg ratio for 'amazing' = 4.031496062992126\n",
            "Pos-to-neg ratio for 'terrible' = 0.17256637168141592\n"
          ],
          "name": "stdout"
        }
      ]
    },
    {
      "cell_type": "code",
      "metadata": {
        "id": "_3yS5VK2pgtc",
        "colab_type": "code",
        "colab": {}
      },
      "source": [
        "# take a log of the ratio\n",
        "for word,ratio in pos_neg_ratios.most_common():\n",
        "    pos_neg_ratios[word] = np.log(ratio)\n",
        "    "
      ],
      "execution_count": 0,
      "outputs": []
    },
    {
      "cell_type": "code",
      "metadata": {
        "id": "rpeIdeSDpgte",
        "colab_type": "code",
        "outputId": "7bca01e1-35e6-425e-a966-577e00db673b",
        "colab": {
          "base_uri": "https://localhost:8080/",
          "height": 265
        }
      },
      "source": [
        "# visualize the distribution of the log-ratio scores\n",
        "scores = np.array(list(pos_neg_ratios.values()))\n",
        "vocab_selected = list(pos_neg_ratios.keys())\n",
        "\n",
        "h = plt.hist(scores,bins=20)"
      ],
      "execution_count": 0,
      "outputs": [
        {
          "output_type": "display_data",
          "data": {
            "image/png": "[encoded data removed]",
            "text/plain": [
              "<Figure size 432x288 with 1 Axes>"
            ]
          },
          "metadata": {
            "tags": [],
            "needs_background": "light"
          }
        }
      ]
    },
    {
      "cell_type": "markdown",
      "metadata": {
        "id": "98oA_Cp8pgti",
        "colab_type": "text"
      },
      "source": [
        "The above histogram should give you an idea about the distribution of the scores.\n",
        "\n",
        "Notice how the scores are distributed around 0. A word with score 0 can be considered as `neutral`. "
      ]
    },
    {
      "cell_type": "code",
      "metadata": {
        "id": "ciQ3LQ1Kpgtj",
        "colab_type": "code",
        "outputId": "fa4865f9-c01b-4fe6-cb71-feff4e4b4307",
        "colab": {
          "base_uri": "https://localhost:8080/",
          "height": 184
        }
      },
      "source": [
        "# Print few words with neutral score\n",
        "for ind in np.where(scores == 0)[0][0:10]:\n",
        "    print(vocab_selected[ind])"
      ],
      "execution_count": 0,
      "outputs": [
        {
          "output_type": "stream",
          "text": [
            "realize\n",
            "hands\n",
            "extreme\n",
            "beat\n",
            "onto\n",
            "psycho\n",
            "test\n",
            "obsessed\n",
            "choose\n",
            "speech\n"
          ],
          "name": "stdout"
        }
      ]
    },
    {
      "cell_type": "markdown",
      "metadata": {
        "id": "UEtlY-66pgtn",
        "colab_type": "text"
      },
      "source": [
        "**APPROACH 1** Implement a simple non-machine learning that only uses the log-ratios to determine if a review is positive or negative. This function will be applied to the test data to calculate the accuracy of the model. \n",
        "\n",
        "_See the assignment document for hints._"
      ]
    },
    {
      "cell_type": "code",
      "metadata": {
        "id": "2c_nxQH6pgto",
        "colab_type": "code",
        "colab": {}
      },
      "source": [
        "def nonml_classifier(review,pos_neg_ratios):\n",
        "    '''\n",
        "    Function that determines the sentiment for a given review.\n",
        "    \n",
        "    Inputs:\n",
        "      review - A text containing a movie review\n",
        "      pos_neg_ratios - A Counter object containing frequent words\n",
        "                       and corresponding log positive-negative ratio\n",
        "    Return:\n",
        "      sentiment - 'NEGATIVE' or 'POSITIVE'\n",
        "    '''\n",
        "    # TODO: Implement the algorithm here. Change the next line.\n",
        "    total = sum(filter(lambda x : abs(x) >= 0.65, [pos_neg_ratios[word] for word in review.split(' ')]))\n",
        "    return 'NEGATIVE' if total < 0 else 'POSITIVE'"
      ],
      "execution_count": 0,
      "outputs": []
    },
    {
      "cell_type": "code",
      "metadata": {
        "id": "94Utk4vFpgts",
        "colab_type": "code",
        "outputId": "85a7be7a-3b90-4f28-fcec-69f7e899c871",
        "colab": {
          "base_uri": "https://localhost:8080/",
          "height": 33
        }
      },
      "source": [
        "predictions_test = []\n",
        "for r in reviews_test:\n",
        "    l = nonml_classifier(r,pos_neg_ratios)\n",
        "    predictions_test.append(l)\n",
        "\n",
        "# calculate accuracy\n",
        "correct = 0\n",
        "for l,p in zip(sentiments_test,predictions_test):\n",
        "    if l == p:\n",
        "        correct = correct + 1\n",
        "\n",
        "print('Accuracy of the model = {}'.format(correct/len(sentiments_test)))"
      ],
      "execution_count": 0,
      "outputs": [
        {
          "output_type": "stream",
          "text": [
            "Accuracy of the model = 0.821\n"
          ],
          "name": "stdout"
        }
      ]
    },
    {
      "cell_type": "markdown",
      "metadata": {
        "id": "y5egVHbtpgtw",
        "colab_type": "text"
      },
      "source": [
        "**Approach 2** Implement a neural network for sentiment classification. \n",
        "\n",
        "> ### System Configuration\n",
        "This part requires you to use a computer with `tensorflow` library installed. More information is available here - https://www.tensorflow.org.\n",
        "`\n",
        "You are allowed to implement the project on your personal computers using `Python 3.4 or above. You will need `numpy` and `scipy` libraries. If you need to use departmental resources, you can use **metallica.cse.buffalo.edu**, which has `Python 3.4.3` and the required libraries installed. \n",
        "\n",
        "> Students attempting to use the `tensorflow` library have two options: \n",
        "1. Install `tensorflow` on personal machines. Detailed installation information is here - https://www.tensorflow.org/. Note that, since `tensorflow` is a relatively new library, you might encounter installation issues depending on your OS and other library versions. We will not be providing any detailed support regarding `tensorflow` installation. If issues persist, we recommend using option 2. \n",
        "2. Use **metallica.cse.buffalo.edu**. If you are registered into the class, you should have an account on that server. The server already has Python 3.4.3 and TensorFlow 0.12.1 installed. Please use /util/bin/python for Python 3. \n",
        "3. To maintain a ssh connection for a long-running task on a remote machine, use tools like `screen`. For more information: https://linuxize.com/post/how-to-use-linux-screen/ \n",
        "4. For running jupyter-notebook over a remote machine find information on: https://fizzylogic.nl/2017/11/06/edit-jupyter-notebooks-over-ssh/\n",
        " \n"
      ]
    },
    {
      "cell_type": "code",
      "metadata": {
        "id": "FshlTt_Ypgtx",
        "colab_type": "code",
        "colab": {}
      },
      "source": [
        "def create_input_vector(review,word2index):\n",
        "    '''\n",
        "    Function to count how many times each word is used in the given review,\n",
        "    # and then store those counts at the appropriate indices inside x.\n",
        "    '''\n",
        "    vocab_size = len(word2index)\n",
        "    x = np.zeros((1, vocab_size))\n",
        "    for w in review.split(' '):\n",
        "        if w in word2index.keys():\n",
        "            x[0][word2index[w]] += 1\n",
        "    return x"
      ],
      "execution_count": 0,
      "outputs": []
    },
    {
      "cell_type": "code",
      "metadata": {
        "id": "cg4ZKauNpgt1",
        "colab_type": "code",
        "colab": {}
      },
      "source": [
        "def find_ignore_words(pos_neg_ratios):\n",
        "    '''\n",
        "    Function to identify words to ignore from the vocabulary\n",
        "    '''\n",
        "    ignore_words = []\n",
        "    # TODO: Complete the implementation of find_ignore_words\n",
        "    for w, val in pos_neg_ratios.most_common():\n",
        "      if abs(val) < 0.2:\n",
        "        ignore_words.append(w)\n",
        "\n",
        "    return ignore_words"
      ],
      "execution_count": 0,
      "outputs": []
    },
    {
      "cell_type": "code",
      "metadata": {
        "id": "EZA7e-WApgt4",
        "colab_type": "code",
        "colab": {}
      },
      "source": [
        "# create a word2index mapping from word to an integer index\n",
        "word2index = {}\n",
        "ignore_words = find_ignore_words(pos_neg_ratios)\n",
        "vocab_selected = list(set(vocab_selected).difference(set(ignore_words)))\n",
        "for i,word in enumerate(vocab_selected):\n",
        "    if word not in ignore_words:\n",
        "        word2index[word] = i\n",
        "vocab_size = len(word2index)"
      ],
      "execution_count": 0,
      "outputs": []
    },
    {
      "cell_type": "markdown",
      "metadata": {
        "id": "nTakNPl3pgt-",
        "colab_type": "text"
      },
      "source": [
        "#### Generate .hdf5 files from the processed data\n",
        "Given that the data is moderately large sized, the `hdf5` file format provides a more efficient file representation for further processing. See [here](https://anaconda.org/anaconda/hdf5) for more details and installation instructions."
      ]
    },
    {
      "cell_type": "code",
      "metadata": {
        "id": "kcmpQoY6pgt_",
        "colab_type": "code",
        "colab": {}
      },
      "source": [
        "import h5py"
      ],
      "execution_count": 0,
      "outputs": []
    },
    {
      "cell_type": "code",
      "metadata": {
        "id": "eFtEYxGipguD",
        "colab_type": "code",
        "colab": {}
      },
      "source": [
        "# Run the script once to generate the file \n",
        "# delete the exiting 'data1.hdf5' file before running it again to avoid error \n",
        "labels_train = np.zeros((len(sentiments_train), 2), dtype=int)\n",
        "labels_test = np.zeros((len(sentiments_test), 2), dtype=int)\n",
        "\n",
        "with h5py.File('data1.hdf5', 'w') as hf:\n",
        "    hf.create_dataset('data_train', (labels_train.shape[0], vocab_size), np.int16)\n",
        "    hf.create_dataset('data_test', (labels_test.shape[0], vocab_size), np.int16)\n",
        "    # create training data\n",
        "    for i,(r,l) in enumerate(zip(reviews_train, sentiments_train)):\n",
        "        hf[\"data_train\"][i] = create_input_vector(r,word2index)\n",
        "        # one-hot encoding\n",
        "        if l == 'NEGATIVE':\n",
        "            labels_train[i, 0] = 1\n",
        "        else:\n",
        "            labels_train[i, 1] = 1\n",
        "    # create test data\n",
        "    for i,(r,l) in enumerate(zip(reviews_test, sentiments_test)):\n",
        "        hf[\"data_test\"][i] = create_input_vector(r,word2index)\n",
        "        # one-hot encoding\n",
        "        if l == 'NEGATIVE':\n",
        "            labels_test[i, 0] = 1\n",
        "        else:\n",
        "            labels_test[i, 1] = 1"
      ],
      "execution_count": 0,
      "outputs": []
    },
    {
      "cell_type": "code",
      "metadata": {
        "id": "DFY7hqp_LqML",
        "colab_type": "code",
        "outputId": "700d6ac5-5ca6-4cf1-d5f4-2e084e1181a2",
        "colab": {
          "base_uri": "https://localhost:8080/",
          "height": 33
        }
      },
      "source": [
        "%tensorflow_version 1.x"
      ],
      "execution_count": 0,
      "outputs": [
        {
          "output_type": "stream",
          "text": [
            "TensorFlow 1.x selected.\n"
          ],
          "name": "stdout"
        }
      ]
    },
    {
      "cell_type": "code",
      "metadata": {
        "id": "ugZ82leUpguF",
        "colab_type": "code",
        "colab": {}
      },
      "source": [
        "import tensorflow as tf \n",
        "tf.compat.v1.random.set_random_seed(10)"
      ],
      "execution_count": 0,
      "outputs": []
    },
    {
      "cell_type": "code",
      "metadata": {
        "id": "Pn3utqZvpguI",
        "colab_type": "code",
        "colab": {}
      },
      "source": [
        "# parameters of the network\n",
        "learning_rate = 0.01\n",
        "batch_size = 400\n",
        "num_epochs = 75\n",
        "n_input = vocab_size\n",
        "n_classes = 2"
      ],
      "execution_count": 0,
      "outputs": []
    },
    {
      "cell_type": "code",
      "metadata": {
        "id": "4kR7EBpypguJ",
        "colab_type": "code",
        "outputId": "a32d5681-af05-47cb-90a0-4f923dde0d5f",
        "colab": {
          "base_uri": "https://localhost:8080/",
          "height": 33
        }
      },
      "source": [
        "X = tf.placeholder(\"float\", [None, n_input])\n",
        "Y = tf.placeholder(\"float\", [None, n_classes])\n",
        "\n",
        "# Define weights and biases in Tensorflow according to the parameters set above\n",
        "n_hidden_1 = 30  # 1st layer number of neurons # max to 100 in steps of 10\n",
        "weights = {\n",
        "\t'h1': tf.Variable(tf.random_normal([n_input, n_hidden_1])),\n",
        "\t#'h2': tf.Variable(tf.random_normal([n_hidden_1, n_hidden_1])),\n",
        "\t#'h3': tf.Variable(tf.random_normal([n_hidden_1, n_hidden_1])),\n",
        "\t#'h4': tf.Variable(tf.random_normal([n_hidden_1, n_hidden_1])),\n",
        "\t#'h5': tf.Variable(tf.random_normal([n_hidden_1, n_hidden_1])),\n",
        "\t#'h6': tf.Variable(tf.random_normal([n_hidden_1, n_hidden_1])),\n",
        "\t#'h7': tf.Variable(tf.random_normal([n_hidden_1, n_hidden_1])),\n",
        "\t#'h8': tf.Variable(tf.random_normal([n_hidden_1, n_hidden_1])),\n",
        "\t#'h9': tf.Variable(tf.random_normal([n_hidden_1, n_hidden_1])),\n",
        "\t'out1': tf.Variable(tf.random_normal([n_hidden_1, n_classes]))\n",
        "}\n",
        "biases = {\n",
        "\t'b1': tf.Variable(tf.random_normal([n_hidden_1])),\n",
        "\t#'b2': tf.Variable(tf.random_normal([n_hidden_1])),\n",
        "\t#'b3': tf.Variable(tf.random_normal([n_hidden_1])),\n",
        "\t#'b4': tf.Variable(tf.random_normal([n_hidden_1])),\n",
        "\t#'b5': tf.Variable(tf.random_normal([n_hidden_1])),\n",
        "\t#'b6': tf.Variable(tf.random_normal([n_hidden_1])),\n",
        "\t#'b7': tf.Variable(tf.random_normal([n_hidden_1])),\n",
        "\t#'b8': tf.Variable(tf.random_normal([n_hidden_1])),\n",
        "\t#'b9': tf.Variable(tf.random_normal([n_hidden_1])),\n",
        "\t'out2': tf.Variable(tf.random_normal([n_classes]))\n",
        "}\n",
        "hidden_layers = len(weights) - 1\n",
        "print(hidden_layers)"
      ],
      "execution_count": 0,
      "outputs": [
        {
          "output_type": "stream",
          "text": [
            "5\n"
          ],
          "name": "stdout"
        }
      ]
    },
    {
      "cell_type": "code",
      "metadata": {
        "id": "4kLZhk9OpguL",
        "colab_type": "code",
        "colab": {}
      },
      "source": [
        "def multilayer_perceptron(x):\n",
        "    # define the layers of a single layer perceptron # max layers to be 10 in steps of 1\n",
        "    layer_1 = tf.nn.sigmoid(tf.add(tf.matmul(x, weights['h1']), biases['b1']))\n",
        "    #layer_2 = tf.nn.sigmoid(tf.add(tf.matmul(layer_1, weights['h2']), biases['b2']))\n",
        "    #layer_3 = tf.nn.sigmoid(tf.add(tf.matmul(layer_2, weights['h3']), biases['b3']))\n",
        "    #layer_4 = tf.nn.sigmoid(tf.add(tf.matmul(layer_3, weights['h4']), biases['b4']))\n",
        "    #layer_5 = tf.nn.sigmoid(tf.add(tf.matmul(layer_4, weights['h5']), biases['b5']))\n",
        "    #layer_6 = tf.nn.sigmoid(tf.add(tf.matmul(layer_5, weights['h6']), biases['b6']))\n",
        "    #layer_7 = tf.nn.sigmoid(tf.add(tf.matmul(layer_6, weights['h7']), biases['b7']))\n",
        "    #layer_8 = tf.nn.sigmoid(tf.add(tf.matmul(layer_7, weights['h8']), biases['b8']))\n",
        "    #layer_9 = tf.nn.sigmoid(tf.add(tf.matmul(layer_8, weights['h9']), biases['b9']))\n",
        "    out_layer = tf.nn.sigmoid(tf.matmul(layer_1, weights['out1']) + biases['out2'])\n",
        "    return out_layer"
      ],
      "execution_count": 0,
      "outputs": []
    },
    {
      "cell_type": "code",
      "metadata": {
        "id": "TMlCgAkPpguM",
        "colab_type": "code",
        "colab": {}
      },
      "source": [
        "logits = multilayer_perceptron(X)\n",
        "# Define loss(softmax_cross_entropy_with_logits) and optimizer(AdamOptimizer)\n",
        "loss_op = tf.reduce_mean(tf.nn.softmax_cross_entropy_with_logits_v2(logits=logits, labels=Y))\n",
        "optimizer = tf.train.AdamOptimizer(learning_rate=learning_rate)\n",
        "train_op = optimizer.minimize(loss_op)\n",
        "# Initializing the variables\n",
        "init = tf.global_variables_initializer()"
      ],
      "execution_count": 0,
      "outputs": []
    },
    {
      "cell_type": "code",
      "metadata": {
        "id": "sN42Xw9tYsDS",
        "colab_type": "code",
        "colab": {}
      },
      "source": [
        "gradients = tf.gradients(loss_op, tf.trainable_variables())"
      ],
      "execution_count": 0,
      "outputs": []
    },
    {
      "cell_type": "code",
      "metadata": {
        "id": "5ejA6_9ipguO",
        "colab_type": "code",
        "colab": {}
      },
      "source": [
        "# for some macosx installations, conflicting copies of mpilib causes trouble with tensorflow.\n",
        "# use the following two lines to resolve that issue\n",
        "import os\n",
        "os.environ['KMP_DUPLICATE_LIB_OK']='True'"
      ],
      "execution_count": 0,
      "outputs": []
    },
    {
      "cell_type": "code",
      "metadata": {
        "id": "0czE8eJopguQ",
        "colab_type": "code",
        "outputId": "8c0261d4-d3a0-4327-e51d-30e8f7cd0b2e",
        "colab": {
          "base_uri": "https://localhost:8080/",
          "height": 1000
        }
      },
      "source": [
        "%%time\n",
        "\n",
        "with tf.Session() as sess:\n",
        "    start_time = time.time()\n",
        "    sess.run(init)\n",
        "\n",
        "    h = h5py.File('data1.hdf5', 'r')\n",
        "    n1 = h.get('data_train') \n",
        "    n2 = h.get('data_test')\n",
        "    #output = open('/content/gdrive/My Drive/Colab Notebooks/output.txt','w')\n",
        "    # Training cycle\n",
        "    total_batch_train = int(n1.shape[0] / batch_size)\n",
        "    total_batch_test = int(n2.shape[0] / batch_size)\n",
        "\n",
        "    for iter_num in range(num_epochs):\n",
        "        # variables for train and test accuracies\n",
        "        avg_acc_train = 0.\n",
        "        avg_acc_test = 0.\n",
        "        for i in range(total_batch_train):\n",
        "            train_x = n1[(i) * batch_size: (i + 1) * batch_size, ...]\n",
        "            train_y = labels_train[(i) * batch_size: (i + 1) * batch_size, :]\n",
        "\n",
        "            _, c_train, _logits_train = sess.run([train_op, loss_op, logits], feed_dict={X: train_x, Y: train_y})\n",
        "            _label_train = [np.argmax(i) for i in _logits_train]\n",
        "            _label_train_y = [np.argmax(i) for i in train_y]\n",
        "            _accuracy_train = np.mean(np.array(_label_train) == np.array(_label_train_y))\n",
        "            avg_acc_train += _accuracy_train\n",
        "\n",
        "\n",
        "        for j in range(total_batch_test):\n",
        "            test_x = n2[(j) * batch_size: (j + 1) * batch_size, ...]\n",
        "            test_y = labels_test[(j) * batch_size: (j + 1) * batch_size, :]\n",
        "\n",
        "            c_test, _logits_test = sess.run([loss_op, logits], feed_dict={X: test_x, Y: test_y})\n",
        "            _label_test = [np.argmax(i) for i in _logits_test]\n",
        "            _label_test_y = [np.argmax(i) for i in test_y]\n",
        "            _accuracy_test = np.mean(np.array(_label_test) == np.array(_label_test_y))\n",
        "            avg_acc_test += _accuracy_test\n",
        "\n",
        "        # print the train and test accuracies   \n",
        "        print(\"Train acc: %f, Test_acc: %f\" % (avg_acc_train/total_batch_train, avg_acc_test/total_batch_test))\n",
        "        output.write(\"Train acc: %f, Test_acc: %f \\n\" % (avg_acc_train/total_batch_train, avg_acc_test/total_batch_test))\n",
        "        #grads = sess.run(gradients, feed_dict={X: test_x, Y: test_y})\n",
        "        #print(\"grads \",grads)\n",
        "    duration = time.time() - start_time\n",
        "    print('Time elapsed - {} seconds.'.format(duration))\n",
        "    #output.write(f\"The Epoch is {num_epochs}, Hidden Layer are {hidden_layers} and Hidden Layer width are {n_hidden_1} \\n \")\n",
        "    #output.write('Time elapsed - {} seconds.'.format(duration))\n",
        "    #output.close()\n",
        "    \n"
      ],
      "execution_count": 0,
      "outputs": [
        {
          "output_type": "stream",
          "text": [
            "Train acc: 0.582500, Test_acc: 0.748750\n",
            "Train acc: 0.824875, Test_acc: 0.796250\n",
            "Train acc: 0.878458, Test_acc: 0.807500\n",
            "Train acc: 0.899292, Test_acc: 0.831250\n",
            "Train acc: 0.908333, Test_acc: 0.827500\n",
            "Train acc: 0.915833, Test_acc: 0.836250\n",
            "Train acc: 0.924417, Test_acc: 0.835000\n",
            "Train acc: 0.929917, Test_acc: 0.841250\n",
            "Train acc: 0.932583, Test_acc: 0.823750\n",
            "Train acc: 0.932167, Test_acc: 0.828750\n",
            "Train acc: 0.933417, Test_acc: 0.822500\n",
            "Train acc: 0.930375, Test_acc: 0.831250\n",
            "Train acc: 0.930500, Test_acc: 0.823750\n",
            "Train acc: 0.928500, Test_acc: 0.826250\n",
            "Train acc: 0.931708, Test_acc: 0.820000\n",
            "Train acc: 0.929333, Test_acc: 0.825000\n",
            "Train acc: 0.924583, Test_acc: 0.833750\n",
            "Train acc: 0.929583, Test_acc: 0.836250\n",
            "Train acc: 0.938958, Test_acc: 0.832500\n",
            "Train acc: 0.942708, Test_acc: 0.845000\n",
            "Train acc: 0.945000, Test_acc: 0.841250\n",
            "Train acc: 0.947000, Test_acc: 0.830000\n",
            "Train acc: 0.947833, Test_acc: 0.838750\n",
            "Train acc: 0.949000, Test_acc: 0.835000\n",
            "Train acc: 0.949292, Test_acc: 0.835000\n",
            "Train acc: 0.949667, Test_acc: 0.836250\n",
            "Train acc: 0.950292, Test_acc: 0.841250\n",
            "Train acc: 0.950333, Test_acc: 0.841250\n",
            "Train acc: 0.950125, Test_acc: 0.837500\n",
            "Train acc: 0.950917, Test_acc: 0.835000\n",
            "Train acc: 0.950875, Test_acc: 0.833750\n",
            "Train acc: 0.950875, Test_acc: 0.842500\n",
            "Train acc: 0.949583, Test_acc: 0.835000\n",
            "Train acc: 0.951417, Test_acc: 0.840000\n",
            "Train acc: 0.951333, Test_acc: 0.831250\n",
            "Train acc: 0.952083, Test_acc: 0.835000\n",
            "Train acc: 0.951500, Test_acc: 0.845000\n",
            "Train acc: 0.952542, Test_acc: 0.837500\n",
            "Train acc: 0.953042, Test_acc: 0.836250\n",
            "Train acc: 0.952333, Test_acc: 0.827500\n",
            "Train acc: 0.952292, Test_acc: 0.833750\n",
            "Train acc: 0.951875, Test_acc: 0.833750\n",
            "Train acc: 0.952625, Test_acc: 0.838750\n",
            "Train acc: 0.952375, Test_acc: 0.838750\n",
            "Train acc: 0.953750, Test_acc: 0.831250\n",
            "Train acc: 0.951000, Test_acc: 0.832500\n",
            "Train acc: 0.952958, Test_acc: 0.836250\n",
            "Train acc: 0.953667, Test_acc: 0.837500\n",
            "Train acc: 0.950875, Test_acc: 0.835000\n",
            "Train acc: 0.953333, Test_acc: 0.842500\n",
            "Train acc: 0.952500, Test_acc: 0.841250\n",
            "Train acc: 0.952625, Test_acc: 0.842500\n",
            "Train acc: 0.952250, Test_acc: 0.843750\n",
            "Train acc: 0.953833, Test_acc: 0.842500\n",
            "Train acc: 0.954417, Test_acc: 0.837500\n",
            "Train acc: 0.951833, Test_acc: 0.841250\n",
            "Train acc: 0.954042, Test_acc: 0.843750\n",
            "Train acc: 0.953667, Test_acc: 0.825000\n",
            "Train acc: 0.955417, Test_acc: 0.831250\n",
            "Train acc: 0.956792, Test_acc: 0.832500\n",
            "Train acc: 0.956833, Test_acc: 0.837500\n",
            "Train acc: 0.957292, Test_acc: 0.837500\n",
            "Train acc: 0.956125, Test_acc: 0.835000\n",
            "Train acc: 0.955333, Test_acc: 0.837500\n",
            "Train acc: 0.957083, Test_acc: 0.837500\n",
            "Train acc: 0.957667, Test_acc: 0.841250\n",
            "Train acc: 0.957792, Test_acc: 0.838750\n",
            "Train acc: 0.957083, Test_acc: 0.835000\n",
            "Train acc: 0.958125, Test_acc: 0.835000\n",
            "Train acc: 0.958417, Test_acc: 0.837500\n",
            "Train acc: 0.957958, Test_acc: 0.837500\n",
            "Train acc: 0.958875, Test_acc: 0.836250\n",
            "Train acc: 0.958542, Test_acc: 0.836250\n",
            "Train acc: 0.959125, Test_acc: 0.835000\n",
            "Train acc: 0.959417, Test_acc: 0.837500\n",
            "Time elapsed - 49.371251344680786 seconds.\n",
            "CPU times: user 1min 8s, sys: 5.1 s, total: 1min 13s\n",
            "Wall time: 49.5 s\n"
          ],
          "name": "stdout"
        }
      ]
    },
    {
      "cell_type": "code",
      "metadata": {
        "id": "_rluo9RAL9EI",
        "colab_type": "code",
        "colab": {}
      },
      "source": [
        ""
      ],
      "execution_count": 0,
      "outputs": []
    }
  ]
}